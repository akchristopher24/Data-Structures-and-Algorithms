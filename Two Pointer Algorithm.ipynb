{
 "cells": [
  {
   "cell_type": "markdown",
   "id": "15f9048c-754e-49c7-a9e6-c7052d70f891",
   "metadata": {},
   "source": [
    "Two Sum Problem"
   ]
  },
  {
   "cell_type": "code",
   "execution_count": 2,
   "id": "9a0a82eb-8a37-4b7f-be12-db08773de407",
   "metadata": {},
   "outputs": [
    {
     "name": "stdout",
     "output_type": "stream",
     "text": [
      "0 3\n"
     ]
    }
   ],
   "source": [
    "arr = [1,2,3,4,5,6]\n",
    "n = len(arr)\n",
    "flag = 1\n",
    "left = 0\n",
    "right = n - 1\n",
    "target = 5\n",
    "\n",
    "while(left < right):\n",
    "    act = arr[left] + arr[right]\n",
    "    \n",
    "    if act == target:\n",
    "        flag = 0\n",
    "        print(left,right)\n",
    "        break\n",
    "        \n",
    "    elif act < target:\n",
    "        left = left + 1\n",
    "        \n",
    "    elif act > target:\n",
    "        right = right - 1\n",
    "if flag == 1:\n",
    "    print(\"No Combination\")"
   ]
  }
 ],
 "metadata": {
  "kernelspec": {
   "display_name": "Python 3 (ipykernel)",
   "language": "python",
   "name": "python3"
  },
  "language_info": {
   "codemirror_mode": {
    "name": "ipython",
    "version": 3
   },
   "file_extension": ".py",
   "mimetype": "text/x-python",
   "name": "python",
   "nbconvert_exporter": "python",
   "pygments_lexer": "ipython3",
   "version": "3.11.7"
  }
 },
 "nbformat": 4,
 "nbformat_minor": 5
}
