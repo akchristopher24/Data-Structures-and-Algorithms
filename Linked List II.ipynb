{
 "cells": [
  {
   "cell_type": "code",
   "execution_count": 1,
   "id": "2a2bd6d5-3301-4fe7-af5e-ada26bb0a710",
   "metadata": {},
   "outputs": [
    {
     "name": "stdout",
     "output_type": "stream",
     "text": [
      "Linkedlist is empty\n",
      "\n",
      "Linkedlist is empty\n"
     ]
    }
   ],
   "source": [
    "class Node:\n",
    "    def __init__(self,data):\n",
    "        self.data = data\n",
    "        self.pointer = None\n",
    "\n",
    "class Linkedlist:\n",
    "    def __init__(self):\n",
    "        self.head  = None\n",
    "\n",
    "    def add(self,data):\n",
    "        newNode = Node(data\n",
    "                      )\n",
    "        if self.head is None:\n",
    "            self.head = newNode\n",
    "        else:\n",
    "            cur = self.head\n",
    "            while cur.pointer is not None:\n",
    "                cur = cur.pointer\n",
    "            cur.pointer = newNode\n",
    "            \n",
    "    def display(self):\n",
    "        cur = self.head\n",
    "        while cur is not None:\n",
    "            print(cur.data, end = \" \")\n",
    "            cur = cur.pointer\n",
    "        print()\n",
    "\n",
    "    def remove(self,data):\n",
    "        if self.head is not None:\n",
    "            if self.head.data == data:\n",
    "                self.head = self.head.pointer\n",
    "            else:\n",
    "                cur = self.head\n",
    "\n",
    "                while (cur.pointer is not None and cur.pointer.data!= data):\n",
    "                    cur = cur.pointer\n",
    "                if cur.pointer is not None:\n",
    "                    cur.pointer = cur.pointer.pointer\n",
    "                else:\n",
    "                    print(\"data is not present in the linkedlist\")\n",
    "        else:\n",
    "            print(\"Linkedlist is empty\")\n",
    "\n",
    "\n",
    "                \n",
    "\n",
    "\n",
    "        \n",
    "linkedList = Linkedlist()\n",
    "#linkedList.add(1)\n",
    "#linkedList.add(2)\n",
    "#linkedList.add(3)\n",
    "#linkedList.display()\n",
    "linkedList.remove(2)\n",
    "linkedList.display()\n",
    "linkedList.remove(5)"
   ]
  }
 ],
 "metadata": {
  "kernelspec": {
   "display_name": "Python 3 (ipykernel)",
   "language": "python",
   "name": "python3"
  },
  "language_info": {
   "codemirror_mode": {
    "name": "ipython",
    "version": 3
   },
   "file_extension": ".py",
   "mimetype": "text/x-python",
   "name": "python",
   "nbconvert_exporter": "python",
   "pygments_lexer": "ipython3",
   "version": "3.11.7"
  }
 },
 "nbformat": 4,
 "nbformat_minor": 5
}
