{
 "cells": [
  {
   "cell_type": "markdown",
   "id": "ff107cb5-f9d8-460c-89cb-9e1b469d6247",
   "metadata": {},
   "source": [
    "### Stack"
   ]
  },
  {
   "cell_type": "code",
   "execution_count": null,
   "id": "d9ec1116-d274-47ec-a4c3-79d47601a6fe",
   "metadata": {},
   "outputs": [],
   "source": [
    "stack = [1,2,3,4]\n",
    "print(stack[-1]) # accessing\n",
    "print(stack)\n",
    "\n",
    "stack.append(5) # insertion\n",
    "print(stack)\n",
    "\n",
    "stack.pop() # deletion\n",
    "print(stack)\n",
    "\n",
    "#efficient\n",
    "x=4\n",
    "if stack[-1] == x:     # seaching      # similar to accessing\n",
    "    print(True)"
   ]
  },
  {
   "cell_type": "code",
   "execution_count": null,
   "id": "2ef4ddea-505d-4e59-9e8f-51d25071cdcc",
   "metadata": {},
   "outputs": [],
   "source": [
    "### "
   ]
  }
 ],
 "metadata": {
  "kernelspec": {
   "display_name": "Python 3 (ipykernel)",
   "language": "python",
   "name": "python3"
  },
  "language_info": {
   "codemirror_mode": {
    "name": "ipython",
    "version": 3
   },
   "file_extension": ".py",
   "mimetype": "text/x-python",
   "name": "python",
   "nbconvert_exporter": "python",
   "pygments_lexer": "ipython3",
   "version": "3.11.7"
  }
 },
 "nbformat": 4,
 "nbformat_minor": 5
}
