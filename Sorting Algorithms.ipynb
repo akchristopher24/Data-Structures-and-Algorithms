{
 "cells": [
  {
   "cell_type": "markdown",
   "id": "84633674-540b-4d7f-af2c-33ef8f9a6b4d",
   "metadata": {},
   "source": [
    "### Bubble Sort"
   ]
  },
  {
   "cell_type": "markdown",
   "id": "3619b6c9-f9d4-40fb-8035-c063fdac7041",
   "metadata": {},
   "source": [
    "max to the last by adjusting swaps"
   ]
  },
  {
   "cell_type": "code",
   "execution_count": 3,
   "id": "fc343c2b-8f8c-40dc-9c6c-1735ba4452c1",
   "metadata": {},
   "outputs": [
    {
     "name": "stdout",
     "output_type": "stream",
     "text": [
      "[0, 1, 2, 3, 4, 5]\n"
     ]
    }
   ],
   "source": [
    "arr = [3,4,2,1,5,0]\n",
    "n = len(arr)\n",
    "for i in range(n-1):\n",
    "    for j in range(n-1):\n",
    "        if arr[j] > arr[j+1]:\n",
    "            arr[j],arr[j+1] = arr[j+1],arr[j] \n",
    "print(arr)\n",
    "            "
   ]
  },
  {
   "cell_type": "markdown",
   "id": "876f2e45-d205-427d-a638-b1b99195171a",
   "metadata": {},
   "source": [
    "### Selection Sort"
   ]
  },
  {
   "cell_type": "markdown",
   "id": "d3a0607c-21fa-4cbb-bbdb-81356a1df21c",
   "metadata": {},
   "source": [
    "Select the minimum and swap it"
   ]
  },
  {
   "cell_type": "code",
   "execution_count": 5,
   "id": "1c5b1929-78f1-4855-97fc-7ed879dedd4e",
   "metadata": {},
   "outputs": [
    {
     "name": "stdout",
     "output_type": "stream",
     "text": [
      "[2, 3, 4, 4, 5]\n"
     ]
    }
   ],
   "source": [
    "arr = [5,4,3,2,4]\n",
    "n = len(arr)\n",
    "for i in range(n-1):\n",
    "    min = i\n",
    "    for j in range(i+1,n):\n",
    "        if arr[j] < arr[min]:\n",
    "            min = j\n",
    "    arr[min],arr[i]=arr[i],arr[min]\n",
    "print(arr)"
   ]
  },
  {
   "cell_type": "markdown",
   "id": "b54717aa-e1de-4e5b-ab98-097789e5a83c",
   "metadata": {},
   "source": [
    "### Insertion Sort"
   ]
  },
  {
   "cell_type": "markdown",
   "id": "217af4cd-de62-4fe5-8bb1-a85d2bdd0f7a",
   "metadata": {},
   "source": [
    "Take the element from one by one from unsorted array to place it in the correct order in the sorted array."
   ]
  },
  {
   "cell_type": "code",
   "execution_count": 6,
   "id": "4f32738a-0d64-49a4-83a5-91779dfefce2",
   "metadata": {},
   "outputs": [
    {
     "name": "stdout",
     "output_type": "stream",
     "text": [
      "[1, 2, 3, 4, 5, 7]\n"
     ]
    }
   ],
   "source": [
    "arr = [7,1,4,5,3,2]\n",
    "n = len(arr)\n",
    "for i in range(1,n):\n",
    "    cur = arr[i]\n",
    "    j = i - 1\n",
    "    while j >= 0 and cur < arr[j]:\n",
    "        arr[j+1] = arr[j]\n",
    "        j = j - 1\n",
    "    arr[j+1] = cur\n",
    "print(arr)"
   ]
  },
  {
   "cell_type": "markdown",
   "id": "f60d2ad1-f122-4e9c-8a79-742d2e589845",
   "metadata": {},
   "source": [
    "### Quick Sort"
   ]
  },
  {
   "cell_type": "code",
   "execution_count": 7,
   "id": "d8a841dc-3e34-4ce5-9c3b-d008779a03f3",
   "metadata": {},
   "outputs": [
    {
     "name": "stdout",
     "output_type": "stream",
     "text": [
      "before sorting: [3, 5, 3, 2, 7, 1, 9, 8]\n",
      "after sorting: [1, 2, 3, 3, 5, 7, 8, 9]\n"
     ]
    }
   ],
   "source": [
    "import random\n",
    "arr = [3,5,3,2,7,1,9,8]\n",
    "print(\"before sorting:\",arr)\n",
    "def QuickSort(arr):\n",
    "    if len(arr)<=1:\n",
    "        return arr\n",
    "    \n",
    "    pivot = random.choice(arr)\n",
    "    left = []\n",
    "    right = []\n",
    "    mid = []\n",
    "    for i in arr:\n",
    "        if i< pivot:\n",
    "            left.append(i)\n",
    "    for i in arr:\n",
    "        if i> pivot:\n",
    "            right.append(i)\n",
    "    for i in arr:\n",
    "        if i== pivot:\n",
    "            mid.append(i)\n",
    "    return QuickSort(left) +mid + QuickSort(right)  \n",
    "print(\"after sorting:\", QuickSort(arr))           \n"
   ]
  },
  {
   "cell_type": "markdown",
   "id": "5ae0918d-1bf0-4438-adac-427b87d8eb6b",
   "metadata": {},
   "source": [
    "### Merge Sort"
   ]
  },
  {
   "cell_type": "code",
   "execution_count": 8,
   "id": "986190f7-287c-4eca-982e-360260bb020c",
   "metadata": {},
   "outputs": [
    {
     "name": "stdout",
     "output_type": "stream",
     "text": [
      "[2, 3]\n"
     ]
    }
   ],
   "source": [
    "def MergeSort(arr):\n",
    "    if len(arr) > 1:\n",
    "        mid = len(arr) // 2\n",
    "        left = arr[:mid]\n",
    "        right = arr[mid:]\n",
    "\n",
    "        MergeSort(left)\n",
    "        MergeSort(right)\n",
    "\n",
    "        lp = 0 #left pointer\n",
    "        rp = 0 #right pointer\n",
    "        fp = 0 #final pointer\n",
    "\n",
    "        while lp < len(left) and rp < len(right):\n",
    "            if left[lp] < right[rp]:\n",
    "                arr[fp] = left[lp]\n",
    "                lp += 1\n",
    "            else:\n",
    "                arr[rp] = right[rp]\n",
    "                rp += 1\n",
    "            fp += 1\n",
    "\n",
    "        while lp < len(left):\n",
    "            arr[fp] = left[lp]\n",
    "            fp += 1\n",
    "            lp += 1\n",
    "\n",
    "        while rp < len(right):\n",
    "            arr[fp] = right[rp]\n",
    "            fp += 1\n",
    "            rp += 1\n",
    "\n",
    "arr = [3,2]\n",
    "MergeSort(arr)\n",
    "print(arr)            \n",
    "            "
   ]
  },
  {
   "cell_type": "code",
   "execution_count": null,
   "id": "50ac6bb6-a855-41f4-b05d-65ceedc47cf9",
   "metadata": {},
   "outputs": [],
   "source": []
  },
  {
   "cell_type": "code",
   "execution_count": null,
   "id": "2cbdb6a4-f290-47c7-9582-8cef2c8f72f6",
   "metadata": {},
   "outputs": [],
   "source": []
  },
  {
   "cell_type": "code",
   "execution_count": null,
   "id": "2d2a9a5a-0614-4924-8434-0920186ecb9c",
   "metadata": {},
   "outputs": [],
   "source": []
  },
  {
   "cell_type": "code",
   "execution_count": null,
   "id": "2634c604-a757-4b79-ab63-57711e6611e5",
   "metadata": {},
   "outputs": [],
   "source": []
  },
  {
   "cell_type": "code",
   "execution_count": null,
   "id": "101adfff-22b4-4fb4-8c1f-094261454894",
   "metadata": {},
   "outputs": [],
   "source": []
  },
  {
   "cell_type": "code",
   "execution_count": null,
   "id": "6ebfa4c7-9852-4b56-9853-988a7fe1e1f0",
   "metadata": {},
   "outputs": [],
   "source": []
  },
  {
   "cell_type": "code",
   "execution_count": null,
   "id": "c723430d-0a18-4bdc-b3b3-71659050ae6d",
   "metadata": {},
   "outputs": [],
   "source": []
  },
  {
   "cell_type": "code",
   "execution_count": null,
   "id": "bdc003f2-f9cd-443e-916d-9753acac4974",
   "metadata": {},
   "outputs": [],
   "source": []
  },
  {
   "cell_type": "code",
   "execution_count": null,
   "id": "e0839e42-cf11-43c3-88fc-1e8735941d7e",
   "metadata": {},
   "outputs": [],
   "source": []
  }
 ],
 "metadata": {
  "kernelspec": {
   "display_name": "Python 3 (ipykernel)",
   "language": "python",
   "name": "python3"
  },
  "language_info": {
   "codemirror_mode": {
    "name": "ipython",
    "version": 3
   },
   "file_extension": ".py",
   "mimetype": "text/x-python",
   "name": "python",
   "nbconvert_exporter": "python",
   "pygments_lexer": "ipython3",
   "version": "3.11.7"
  }
 },
 "nbformat": 4,
 "nbformat_minor": 5
}
