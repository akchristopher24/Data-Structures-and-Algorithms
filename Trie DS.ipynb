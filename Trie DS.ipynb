{
 "cells": [
  {
   "cell_type": "code",
   "execution_count": 12,
   "id": "6c140388-048a-47b8-88f0-c01a53c7ce93",
   "metadata": {},
   "outputs": [
    {
     "name": "stdout",
     "output_type": "stream",
     "text": [
      "word removed\n"
     ]
    }
   ],
   "source": [
    "class TrieNode:\n",
    "    def __init__(self):\n",
    "        self.children = {}\n",
    "        self.IsEnd = False\n",
    "class Trie:\n",
    "    def __init__(self):\n",
    "        self.root = TrieNode()\n",
    "    def Add(self,word):\n",
    "        CurrentNode = self.root\n",
    "        for character in word:\n",
    "            if character not in CurrentNode.children:\n",
    "                CurrentNode.children[character] = TrieNode()\n",
    "            CurrentNode = CurrentNode.children[character]\n",
    "        CurrentNode.IsEnd = True\n",
    "    def Search(self,word):\n",
    "        CurrentNode = self.root\n",
    "        for character in word:\n",
    "            if character not in CurrentNode.children:\n",
    "                return False\n",
    "            CurrentNode = CurrentNode.children[character]\n",
    "        if CurrentNode.IsEnd == True:\n",
    "            return True\n",
    "        return False\n",
    "\n",
    "    def remove(self,word):\n",
    "        if not self.Search(word):\n",
    "            print(\"word not found\") \n",
    "            return\n",
    "        CurrentNode = self.root\n",
    "        stack = []\n",
    "        for character in word:\n",
    "            stack.append(CurrentNode)\n",
    "            CurrentNode = CurrentNode.children[character]\n",
    "        CurrentNode.IsEnd = False\n",
    "\n",
    "         \n",
    "\n",
    "        while len(stack) > 0:\n",
    "            node = stack.pop()\n",
    "            char = word[len(stack)]\n",
    "            \n",
    "            \n",
    "\n",
    "            if not node.children[char].IsEnd and not node.children[char].children:\n",
    "                del node.children[char]\n",
    "            else:\n",
    "                break\n",
    "        print(\"word removed\")\n",
    "        \n",
    "            \n",
    "\n",
    "TrieDs = Trie()\n",
    "TrieDs.Add(\"GO\")\n",
    "TrieDs.Add(\"GOOD\")\n",
    "TrieDs.Search(\"GOLD\")\n",
    "TrieDs.Add(\"APPLICATION\")\n",
    "TrieDs.Add(\"APPLE\")\n",
    "TrieDs.Add(\"APP\")\n",
    "TrieDs.remove(\"APP\")"
   ]
  }
 ],
 "metadata": {
  "kernelspec": {
   "display_name": "Python 3 (ipykernel)",
   "language": "python",
   "name": "python3"
  },
  "language_info": {
   "codemirror_mode": {
    "name": "ipython",
    "version": 3
   },
   "file_extension": ".py",
   "mimetype": "text/x-python",
   "name": "python",
   "nbconvert_exporter": "python",
   "pygments_lexer": "ipython3",
   "version": "3.11.7"
  }
 },
 "nbformat": 4,
 "nbformat_minor": 5
}
