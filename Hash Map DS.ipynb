{
 "cells": [
  {
   "cell_type": "code",
   "execution_count": 31,
   "id": "f23bc4db-7fb4-4521-9b8f-ccae75630e43",
   "metadata": {},
   "outputs": [
    {
     "name": "stdout",
     "output_type": "stream",
     "text": [
      "[None, None, None, None, None, None, None, None, None, None]\n",
      "7\n",
      "5\n",
      "[None, None, None, None, None, [['age', '25']], None, [['Name', 'AKASH']], None, None]\n",
      "AKASH\n",
      "None\n"
     ]
    }
   ],
   "source": [
    "class HashMap:\n",
    "    def __init__(self,size = 10):\n",
    "        self.size = size\n",
    "        self.hashList = [None] * self.size \n",
    "    def GetIndex(self,key):\n",
    "        return hash(key) % self.size\n",
    "    def __setitem__(self,key,value):\n",
    "        Index = self.GetIndex(key)\n",
    "        print(Index)\n",
    "\n",
    "        if self.hashList[Index] is None:\n",
    "            self.hashList[Index] = [[key,value]]\n",
    "        else:\n",
    "            \n",
    "            subList = self.hashList[Index]\n",
    "            #print(subList)\n",
    "            for pairs in subList:\n",
    "                if pairs[0] == key:\n",
    "                    return \n",
    "                \n",
    "                self.hashList[Index].append([key,value])\n",
    "            \n",
    "            \n",
    "    def __getitem__(self,key):\n",
    "        Index = self.GetIndex(key)\n",
    "        if self.hashList[Index]:\n",
    "            subList = self.hashList[Index]\n",
    "            #print(subList)\n",
    "            for pairs in subList:\n",
    "                if pairs[0] == key:\n",
    "                    return pairs[1]\n",
    "                \n",
    "                return \"key not found\"\n",
    "\n",
    "    def __delitem__(self,key):\n",
    "        Index = self.GetIndex(key)\n",
    "        if self.hashList[Index]:\n",
    "            subList = self.hashList[Index]\n",
    "            #print(subList)\n",
    "            for i, pairs in enumerate(subList):\n",
    "                if pairs[0] == key:\n",
    "                    del self.hashList[Index][i]\n",
    "                \n",
    "                return \"key not found\"\n",
    "                    \n",
    "dictionary = HashMap()\n",
    "print(dictionary.hashList)\n",
    "dictionary[\"Name\"] = \"AKASH\"\n",
    "dictionary[\"age\"] = \"25\"\n",
    "print(dictionary.hashList)\n",
    "print(dictionary[\"Name\"])\n",
    "del dictionary[\"Name\"]\n",
    "print(dictionary[\"Name\"])\n"
   ]
  },
  {
   "cell_type": "code",
   "execution_count": null,
   "id": "6bbd514f-0827-4c58-a35b-29c1a0407687",
   "metadata": {},
   "outputs": [],
   "source": []
  }
 ],
 "metadata": {
  "kernelspec": {
   "display_name": "Python 3 (ipykernel)",
   "language": "python",
   "name": "python3"
  },
  "language_info": {
   "codemirror_mode": {
    "name": "ipython",
    "version": 3
   },
   "file_extension": ".py",
   "mimetype": "text/x-python",
   "name": "python",
   "nbconvert_exporter": "python",
   "pygments_lexer": "ipython3",
   "version": "3.11.7"
  }
 },
 "nbformat": 4,
 "nbformat_minor": 5
}
