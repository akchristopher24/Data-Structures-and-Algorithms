{
 "cells": [
  {
   "cell_type": "code",
   "execution_count": 7,
   "id": "c285083d-ca99-49ba-b53c-8691f6600d72",
   "metadata": {},
   "outputs": [
    {
     "name": "stdout",
     "output_type": "stream",
     "text": [
      "5\n"
     ]
    }
   ],
   "source": [
    "#find the largest\n",
    "arr = [3,2,1,5,2]\n",
    "n = len(arr)\n",
    "largest = arr[0]\n",
    "for i in range(n):\n",
    "    if arr[i] > largest:\n",
    "        largest = arr[i]\n",
    "print(largest)                    # t.c = O(N)"
   ]
  },
  {
   "cell_type": "code",
   "execution_count": 1,
   "id": "827f6ad3-6244-4fb3-ba4f-117e7a7b9208",
   "metadata": {},
   "outputs": [
    {
     "name": "stdout",
     "output_type": "stream",
     "text": [
      "5\n"
     ]
    }
   ],
   "source": [
    "#find the second largest \n",
    "arr = [1, 2, 4, 7, 7, 5]\n",
    "n = len(arr)\n",
    "largest = arr[0]\n",
    "slargest = -1\n",
    "\n",
    "for i in range(n):\n",
    "    if arr[i] > largest:\n",
    "        slargest = largest\n",
    "        largest = arr[i]\n",
    "    elif arr[i] < largest and arr[i] > slargest:\n",
    "        slargest = arr[i]\n",
    "\n",
    "print(slargest)\n"
   ]
  },
  {
   "cell_type": "code",
   "execution_count": 6,
   "id": "00921755-6467-470a-9325-ccf1ebf14e0f",
   "metadata": {},
   "outputs": [
    {
     "name": "stdout",
     "output_type": "stream",
     "text": [
      "True\n"
     ]
    }
   ],
   "source": [
    "# check if the given arr is sorted or not\n",
    "arr = [1,2,3,4,5]\n",
    "n = len(arr)\n",
    "def isSorted(arr,n):\n",
    "    for i in range(1,n):\n",
    "        if arr[i] >= arr[i-1]:\n",
    "            continue\n",
    "        else:\n",
    "            return False\n",
    "    return True\n",
    "print(isSorted(arr,n))"
   ]
  },
  {
   "cell_type": "code",
   "execution_count": 3,
   "id": "9e4cf2eb-cb69-458a-9c64-86e200ccb1be",
   "metadata": {},
   "outputs": [
    {
     "name": "stdout",
     "output_type": "stream",
     "text": [
      "True\n",
      "False\n"
     ]
    }
   ],
   "source": [
    "def is_sorted(a):\n",
    "    n = len(a)\n",
    "    for i in range(1, n):\n",
    "        if a[i] >= a[i - 1]:\n",
    "            continue\n",
    "        else:\n",
    "            return False\n",
    "    return True\n",
    "a = [1, 2, 3, 4, 5]\n",
    "print(is_sorted(a))  # Output: True\n",
    "\n",
    "b = [1, 3, 2, 4, 5]\n",
    "print(is_sorted(b))  # Output: False\n",
    "                                                   #if the given arr is sorted or not == > O(N) time complexity"
   ]
  },
  {
   "cell_type": "code",
   "execution_count": 4,
   "id": "d08585fb-9ed1-4706-8fdb-3f973bea67f1",
   "metadata": {},
   "outputs": [
    {
     "name": "stdout",
     "output_type": "stream",
     "text": [
      "False\n"
     ]
    }
   ],
   "source": [
    "# if the given arr is sorted or not\n",
    "arr = [1,2,4,3,5]\n",
    "n = len(arr)\n",
    "def isSorted(arr):\n",
    "    for i in range(1,n):\n",
    "        if arr[i] >= arr[i-1]:\n",
    "            continue\n",
    "        else:\n",
    "            return False\n",
    "    return True\n",
    "print(isSorted(arr))"
   ]
  },
  {
   "cell_type": "code",
   "execution_count": 20,
   "id": "aca9e7f9-0706-4248-8acc-df271c770e6d",
   "metadata": {},
   "outputs": [
    {
     "name": "stdout",
     "output_type": "stream",
     "text": [
      "{1, 2, 3}\n"
     ]
    }
   ],
   "source": [
    "#remove duplicates from sorted array\n",
    "\n",
    "arr = [1,1,2,2,3,3]\n",
    "rm_duplicate = set(arr)\n",
    "print(rm_duplicate)              #brute force solution"
   ]
  },
  {
   "cell_type": "code",
   "execution_count": 8,
   "id": "fa7a841d-00e2-4f75-a56c-fd3760d46682",
   "metadata": {},
   "outputs": [
    {
     "name": "stdout",
     "output_type": "stream",
     "text": [
      "3\n"
     ]
    }
   ],
   "source": [
    "#remove duplicates from sorted array\n",
    "arr = [1,1,2,2,2,3,3]\n",
    "n = len(arr)\n",
    "i = 0\n",
    "for j in range(1,n):\n",
    "    if arr[j] != arr[i]:  # 1 != 1 no, j = 1  1 ! = 1 no, 2 ! = 1 yes then arr[1] = arr[2] i = 1 2 != 2 no, 2 != 2 no, 3 != 2 yes then arr[2] = arr[5] i = 2 arr[6] != arr[2] 3 != 3 no \n",
    "        arr[i+1] = arr[j] \n",
    "        i = i+1\n",
    "print(i+1)           # optimal solution t.c is 0(N), s.c is O(1)\n"
   ]
  },
  {
   "cell_type": "markdown",
   "id": "91d31791-f0ab-46d6-a79e-c35934a17751",
   "metadata": {},
   "source": [
    "Q. You are given a sorted integer array ARR of size N. You need to remove the duplicates from the array such that each element appears only once. Return the length of this new array."
   ]
  },
  {
   "cell_type": "code",
   "execution_count": 10,
   "id": "061174a4-bb15-4a8c-a914-1958172e25ba",
   "metadata": {},
   "outputs": [
    {
     "name": "stdout",
     "output_type": "stream",
     "text": [
      "[1, 2, 3]\n",
      "3\n"
     ]
    }
   ],
   "source": [
    "arr = [1, 1, 2, 2, 2, 3, 3]\n",
    "n = len(arr)\n",
    "i = 0\n",
    "\n",
    "for j in range(1, n):\n",
    "    if arr[j] != arr[i]:\n",
    "        i += 1\n",
    "        arr[i] = arr[j]\n",
    "        \n",
    "print(arr[:i + 1])  # Output the array without duplicates\n",
    "print(i + 1)  # Output the length of the array without duplicates\n",
    "\n"
   ]
  },
  {
   "cell_type": "code",
   "execution_count": 2,
   "id": "69402f1e-15a3-4a66-bd24-c95420ebf73e",
   "metadata": {},
   "outputs": [
    {
     "name": "stdout",
     "output_type": "stream",
     "text": [
      "[2, 3, 4, 5, 1]\n"
     ]
    }
   ],
   "source": [
    "#Left rotate the array by one place\n",
    "arr = [1,2,3,4,5]\n",
    "n = len(arr)\n",
    "temp = arr[0]\n",
    "for i in range(1,n):\n",
    "    arr[i-1] = arr[i]\n",
    "arr[n-1] = temp\n",
    "print(arr)                                      # t.c is O(N) # because we running the loop for N times.\n",
    "                                            #Are we using any extra space ? no . there by we using O(1) s.c\n",
    "                                            #we using array to solve the problem so the T.C is O(N) "
   ]
  },
  {
   "cell_type": "code",
   "execution_count": 13,
   "id": "838dd3cb-4973-4bf5-814f-f47f99af2f2e",
   "metadata": {},
   "outputs": [
    {
     "name": "stdin",
     "output_type": "stream",
     "text": [
      "Enter D value :  3\n"
     ]
    },
    {
     "name": "stdout",
     "output_type": "stream",
     "text": [
      "[4, 5, 1, 2, 3]\n"
     ]
    }
   ],
   "source": [
    "#left rotate by the array by D places\n",
    "arr = [1,2,3,4,5]\n",
    "n = len(arr)\n",
    "D = int(input(\"Enter D value : \"))\n",
    "D = D % n\n",
    "temp = arr[:D]\n",
    "for i in range(D,n):\n",
    "    arr[i-D] = arr[i]\n",
    "k = n - D\n",
    "for i in range(D):\n",
    "    arr[k+i] = temp[i]\n",
    "print(arr)\n",
    "\n"
   ]
  },
  {
   "cell_type": "code",
   "execution_count": 27,
   "id": "f6f12d65-f957-4ba1-b87d-6ebb10034409",
   "metadata": {},
   "outputs": [
    {
     "name": "stdout",
     "output_type": "stream",
     "text": [
      "[4, 5, 6, 7, 1, 2, 3]\n"
     ]
    }
   ],
   "source": [
    "#left rotate by the array by D places\n",
    "arr = [1, 2, 3, 4, 5, 6, 7]\n",
    "d = 3\n",
    "\n",
    "def left_rotate(arr, d):\n",
    "    first_half = arr[:d]\n",
    "    second_half = arr[d:]\n",
    "    \n",
    "    first_half.reverse()\n",
    "    second_half.reverse()\n",
    "    \n",
    "    # Concatenate the reversed parts and reverse the whole array to get the left rotation effect\n",
    "    result = first_half + second_half\n",
    "    result.reverse()\n",
    "    \n",
    "    return result\n",
    "\n",
    "rotated_array = left_rotate(arr, d)\n",
    "print(rotated_array)\n"
   ]
  },
  {
   "cell_type": "code",
   "execution_count": 1,
   "id": "c8f98ad5-6ee1-4cd3-b44a-9fa06ea854aa",
   "metadata": {},
   "outputs": [
    {
     "data": {
      "text/plain": [
       "[5, 1, 4, 2, 4, 0, 0, 0]"
      ]
     },
     "execution_count": 1,
     "metadata": {},
     "output_type": "execute_result"
    }
   ],
   "source": [
    "#move zeros to end:\n",
    "def move_zeros(n, a):\n",
    "    # Step 1\n",
    "    temp = []\n",
    "    for i in range(n):\n",
    "        if a[i] != 0:\n",
    "            temp.append(a[i])\n",
    "\n",
    "    # Step 2\n",
    "    nz = len(temp)\n",
    "    for i in range(nz):\n",
    "        a[i] = temp[i]\n",
    "\n",
    "    # Step 3\n",
    "    for i in range(nz, n):\n",
    "        a[i] = 0\n",
    "\n",
    "    return a\n",
    "move_zeros(8, [5,0,1,4,0,0,2,4]) "
   ]
  },
  {
   "cell_type": "code",
   "execution_count": 9,
   "id": "0c3c40a3-44f3-4423-a908-5263518d8989",
   "metadata": {},
   "outputs": [
    {
     "data": {
      "text/plain": [
       "[1, 2, 3, 4, 5, 0, 0, 0, 0, 0, 0]"
      ]
     },
     "execution_count": 9,
     "metadata": {},
     "output_type": "execute_result"
    }
   ],
   "source": [
    "arr = [0,1,2,0,0,3,4,5,0,0,0]\n",
    "n = len(arr) \n",
    "temp = []\n",
    "reg_arr = []\n",
    "for i in range(n):\n",
    "    if arr[i]==0:\n",
    "        temp.append(arr[i])\n",
    "    else:\n",
    "        reg_arr.append(arr[i])\n",
    "#print(reg_arr)\n",
    "#print(temp)\n",
    "reg_arr.extend(temp)\n",
    "reg_arr"
   ]
  },
  {
   "cell_type": "code",
   "execution_count": 11,
   "id": "b01a18dc-b312-4b6e-9d5d-f453a20d8e05",
   "metadata": {},
   "outputs": [
    {
     "name": "stdout",
     "output_type": "stream",
     "text": [
      "None\n"
     ]
    }
   ],
   "source": [
    "def move_zeros(nums):\n",
    "    \"\"\"\n",
    "    This function moves all zeros in a list to the end while maintaining \n",
    "    the relative order of the non-zero elements.\n",
    "\n",
    "    Args:\n",
    "        nums: A list of integers.\n",
    "    \"\"\"\n",
    "\n",
    "    j = 0  # Index to track the position for placing the next non-zero element\n",
    "\n",
    "    # Iterate through the list\n",
    "    for i in range(len(nums)):\n",
    "        if nums[i] != 0:\n",
    "            # Swap the current non-zero element with the element at position j\n",
    "            nums[i], nums[j] = nums[j], nums[i]  \n",
    "            j += 1  # Increment j to the next position for a potential non-zero element\n",
    "print(move_zeros([0,1,2,0,0,3,4,5,0,0,0]))"
   ]
  },
  {
   "cell_type": "code",
   "execution_count": 15,
   "id": "0d43d496-487e-4066-9fd2-d09f8d1df466",
   "metadata": {},
   "outputs": [
    {
     "name": "stdout",
     "output_type": "stream",
     "text": [
      "[1, 2, 3, 0, 0]\n"
     ]
    }
   ],
   "source": [
    "def move_zeros(nums):\n",
    "    \"\"\"\n",
    "    This function moves all zeros in a list to the end while maintaining \n",
    "    the relative order of the non-zero elements.\n",
    "\n",
    "    Args:\n",
    "        nums: A list of integers.\n",
    "    \"\"\"\n",
    "\n",
    "    j = 0  # Index to track the position for placing the next non-zero element\n",
    "\n",
    "    # Iterate through the list\n",
    "    for i in range(len(nums)): \n",
    "        if nums[i] != 0: \n",
    "            # Swap the current non-zero element with the element at position j\n",
    "            nums[i], nums[j] = nums[j], nums[i]   \n",
    "            j += 1  # Increment j to the next position for a potential non-zero element      \n",
    "\n",
    "# Example usage\n",
    "nums = [ 1, 0, 2, 0, 3]\n",
    "move_zeros(nums)  \n",
    "print(nums)  # Output: [1, 2, 3, 4, 5, 0, 0, 0, 0, 0, 0]\n"
   ]
  },
  {
   "cell_type": "code",
   "execution_count": 2,
   "id": "6e247660-4f7d-4ec2-b7b3-70e946279588",
   "metadata": {},
   "outputs": [
    {
     "name": "stdin",
     "output_type": "stream",
     "text": [
      "Enter the NUM:  6\n"
     ]
    },
    {
     "data": {
      "text/plain": [
       "3"
      ]
     },
     "execution_count": 2,
     "metadata": {},
     "output_type": "execute_result"
    }
   ],
   "source": [
    "#Linear Search\n",
    "def linearSearch(Num,arr,n):\n",
    "    for i in range(n):\n",
    "        if arr[i] == Num:\n",
    "            return i\n",
    "    return -1\n",
    "Num = int(input(\"Enter the NUM: \"))\n",
    "arr = [2,4,5,6,8]\n",
    "n= len(arr)\n",
    "linearSearch(Num,arr,n)"
   ]
  },
  {
   "cell_type": "code",
   "execution_count": 10,
   "id": "70da1e15-a9b0-4c13-bf92-cdd41a1f302a",
   "metadata": {},
   "outputs": [
    {
     "data": {
      "text/plain": [
       "{1, 2, 3, 4, 5, 6, 7}"
      ]
     },
     "execution_count": 10,
     "metadata": {},
     "output_type": "execute_result"
    }
   ],
   "source": [
    "#a = [1, 2, 3, 4, 5]\n",
    "#b = [3, 4, 5, 6, 7]\n",
    "#st = set(a) | set(b)\n",
    "#st\n",
    "#temp = sorted(st)\n",
    "#temp"
   ]
  },
  {
   "cell_type": "code",
   "execution_count": 11,
   "id": "ba3f7c5c-b4c5-465f-96a1-fa209870a5f7",
   "metadata": {},
   "outputs": [
    {
     "name": "stdout",
     "output_type": "stream",
     "text": [
      "[1, 2, 3, 4, 5, 6, 7]\n"
     ]
    }
   ],
   "source": [
    "#union of two sorted arrays\n",
    "def sorted_array(a, b):\n",
    "    st = set(a) | set(b)\n",
    "    temp = sorted(st)\n",
    "    return temp\n",
    "\n",
    "# Example usage\n",
    "a = [1, 2, 3, 4, 5]\n",
    "b = [3, 4, 5, 6, 7]\n",
    "result = sorted_array(a, b)\n",
    "print(result)  # Output: [1, 2, 3, 4, 5, 6, 7]\n"
   ]
  },
  {
   "cell_type": "code",
   "execution_count": 9,
   "id": "850b0198-5a8d-4190-9963-639b8309899f",
   "metadata": {},
   "outputs": [
    {
     "data": {
      "text/plain": [
       "{1, 2, 3, 4, 5}"
      ]
     },
     "execution_count": 9,
     "metadata": {},
     "output_type": "execute_result"
    }
   ],
   "source": [
    "#union of two sorted arrays\n",
    "arr1 = {1,1,2,3,4,5}\n",
    "arr2 = {2,3,4,5,5}\n",
    "arr1.union(arr2)\n"
   ]
  },
  {
   "cell_type": "code",
   "execution_count": 1,
   "id": "c7006027-59df-45ac-8009-9901a5f19386",
   "metadata": {},
   "outputs": [
    {
     "name": "stdout",
     "output_type": "stream",
     "text": [
      "[1, 2, 3, 4, 5, 6]\n"
     ]
    }
   ],
   "source": [
    "#Union of two sorted array\n",
    "def union_sorted_arrays(arr1, arr2):\n",
    "    union_array = []\n",
    "    i, j = 0, 0\n",
    "\n",
    "    # Traverse both arrays\n",
    "    while i < len(arr1) and j < len(arr2):\n",
    "        # If the current element of arr1 is smaller\n",
    "        if arr1[i] < arr2[j]:\n",
    "            if not union_array or union_array[-1] != arr1[i]:\n",
    "                union_array.append(arr1[i])\n",
    "            i += 1\n",
    "        # If the current element of arr2 is smaller\n",
    "        elif arr2[j] < arr1[i]:\n",
    "            if not union_array or union_array[-1] != arr2[j]:\n",
    "                union_array.append(arr2[j])\n",
    "            j += 1\n",
    "        else:\n",
    "            # If both elements are the same\n",
    "            if not union_array or union_array[-1] != arr1[i]:\n",
    "                union_array.append(arr1[i])\n",
    "            i += 1\n",
    "            j += 1\n",
    "\n",
    "    # Store remaining elements of arr1\n",
    "    while i < len(arr1):\n",
    "        if not union_array or union_array[-1] != arr1[i]:\n",
    "            union_array.append(arr1[i])\n",
    "        i += 1\n",
    "\n",
    "    # Store remaining elements of arr2\n",
    "    while j < len(arr2):\n",
    "        if not union_array or union_array[-1] != arr2[j]:\n",
    "            union_array.append(arr2[j])\n",
    "        j += 1\n",
    "\n",
    "    return union_array\n",
    "\n",
    "# Example usage\n",
    "arr1 = [1, 2, 2, 3, 5]\n",
    "arr2 = [2, 3, 4, 6]\n",
    "union_array = union_sorted_arrays(arr1, arr2)\n",
    "print(union_array)  # Output: [1, 2, 3, 4, 5, 6]\n"
   ]
  },
  {
   "cell_type": "code",
   "execution_count": 14,
   "id": "c1c712e6-37a3-4fbd-960c-4a9908867e22",
   "metadata": {},
   "outputs": [
    {
     "name": "stdout",
     "output_type": "stream",
     "text": [
      "[1, 2, 3, 4, 5, 6, 7, 8]\n"
     ]
    }
   ],
   "source": [
    "def merge_sorted_arrays(arr1, arr2):\n",
    "    merged_array = []\n",
    "    i, j = 0, 0\n",
    "\n",
    "    # Merge the two sorted arrays\n",
    "    while i < len(arr1) and j < len(arr2):\n",
    "        if arr1[i] < arr2[j]:\n",
    "            merged_array.append(arr1[i])\n",
    "            i += 1\n",
    "        else:\n",
    "            merged_array.append(arr2[j])\n",
    "            j += 1\n",
    "\n",
    "    # Append any remaining elements from arr1\n",
    "    while i < len(arr1):\n",
    "        merged_array.append(arr1[i])\n",
    "        i += 1\n",
    "\n",
    "    # Append any remaining elements from arr2\n",
    "    while j < len(arr2):\n",
    "        merged_array.append(arr2[j])\n",
    "        j += 1\n",
    "\n",
    "    return merged_array\n",
    "\n",
    "# Example usage\n",
    "arr1 = [1, 3, 5, 7]\n",
    "arr2 = [2, 4, 6, 8]\n",
    "merged_array = merge_sorted_arrays(arr1, arr2)\n",
    "print(merged_array)  # Output: [1, 2, 3, 4, 5, 6, 7, 8]\n"
   ]
  },
  {
   "cell_type": "code",
   "execution_count": null,
   "id": "824034ce-c978-4fe1-8e58-c2c4d769530c",
   "metadata": {},
   "outputs": [],
   "source": [
    "#intersection of two sorted array                                 ##optimal solution \n",
    "def find_array_intersection(A, B):\n",
    "    i = 0\n",
    "    j = 0\n",
    "    ans = []\n",
    "    n = len(A)\n",
    "    m = len(B)\n",
    "\n",
    "    while i < n and j < m:\n",
    "        if A[i] < B[j]:\n",
    "            i += 1\n",
    "        elif B[j] < A[i]:\n",
    "            j += 1\n",
    "        else:\n",
    "            ans.append(A[i])\n",
    "            i += 1\n",
    "            j += 1\n",
    "\n",
    "    return ans\n",
    "\n",
    "# Sample arrays\n",
    "A = [1, 2, 4, 5, 6]\n",
    "B = [2, 3, 5, 7]\n",
    "\n",
    "# Find the intersection\n",
    "intersection = find_array_intersection(A, B)\n",
    "\n",
    "# Print the result\n",
    "print(intersection)  # Output: [2, 5]\n",
    "                                                               \n",
    "                                                                #t.c => O(n1+n2) in the worst case\n",
    "                                                                # s.c => O(1)"
   ]
  },
  {
   "cell_type": "code",
   "execution_count": 5,
   "id": "561b84cd-5034-4735-87b0-7e5ded1368f0",
   "metadata": {},
   "outputs": [],
   "source": [
    "#find the missing no btw 1 to N\n",
    "N = 5\n",
    "arr = [1,2,4,5]\n",
    "for i in range(N):\n",
    "    flag = 0\n",
    "    for j in range(N-1):\n",
    "        if arr[j] == i:\n",
    "            flag = 1\n",
    "            break\n",
    "if flag == 0:\n",
    "    print(i)\n",
    "        "
   ]
  },
  {
   "cell_type": "code",
   "execution_count": 32,
   "id": "2c7c5d8b-9c83-4729-9eaa-09c869de1768",
   "metadata": {},
   "outputs": [
    {
     "name": "stdout",
     "output_type": "stream",
     "text": [
      "3\n"
     ]
    }
   ],
   "source": [
    "# brute force approach\n",
    "N = 5\n",
    "arr = [1, 2, 4, 5]\n",
    "for i in range(1, N + 1):\n",
    "    flag = 0\n",
    "    for j in range(N - 1):\n",
    "        if arr[j] == i:\n",
    "            flag = 1\n",
    "            break\n",
    "    if flag == 0:\n",
    "        print(i)\n"
   ]
  },
  {
   "cell_type": "code",
   "execution_count": 36,
   "id": "4fdb1f6a-27f8-40e0-a945-d9b8e20932da",
   "metadata": {},
   "outputs": [
    {
     "name": "stdout",
     "output_type": "stream",
     "text": [
      "4\n"
     ]
    }
   ],
   "source": [
    "N = 5\n",
    "arr = [1,2,3,5]\n",
    "for i in range(1, N + 1):\n",
    "    flag = 0\n",
    "    for j in range(N - 1):\n",
    "        if arr[j] == i:\n",
    "            flag = 1\n",
    "            break\n",
    "    if flag == 0:\n",
    "        print(i)\n"
   ]
  },
  {
   "cell_type": "code",
   "execution_count": 5,
   "id": "b21e36dc-6ae4-4cdc-a952-599e2d412b15",
   "metadata": {},
   "outputs": [
    {
     "name": "stdout",
     "output_type": "stream",
     "text": [
      "3\n"
     ]
    }
   ],
   "source": [
    "#better solution\n",
    "N = 5\n",
    "arr = [1,2,4,5]\n",
    "hash_arr = [0]*(N+1)      #space complexity is O(N) . Bcos we using hash array in order to hash all the elements\n",
    "for i in range(1,N+1):                            #  O(N) \n",
    "    if i in arr:\n",
    "        hash_arr[i] = hash_arr[i] + 1\n",
    "for i in range(1,N+1):                            # 0(N)\n",
    "    if hash_arr[i] == 0:\n",
    "        print(i)                                  #time complexity is O(N) + O(N)  = O(2N) as the worst case\n",
    "                                                  #s.c is O(N)"
   ]
  },
  {
   "cell_type": "code",
   "execution_count": 12,
   "id": "7c02c27d-1c3a-4683-8fc3-e0f0cb3f5e49",
   "metadata": {},
   "outputs": [
    {
     "name": "stdout",
     "output_type": "stream",
     "text": [
      "missing value is :  5\n"
     ]
    }
   ],
   "source": [
    "#optimal solution\n",
    "N =5\n",
    "arr = [1,2,3,4]\n",
    "sum_of_NN = N*(N+1)//2\n",
    "sum = 0\n",
    "for i in range(len(arr)):                               #time complexity is O(N),\n",
    "    sum = sum + arr[i]\n",
    "missing_value_is = sum_of_NN - sum                      #Space complexity is O(1) \n",
    "print(\"missing value is : \",missing_value_is)                                                            "
   ]
  },
  {
   "cell_type": "code",
   "execution_count": 13,
   "id": "68e88646-2b12-4222-9767-5681126e4a27",
   "metadata": {},
   "outputs": [
    {
     "name": "stdout",
     "output_type": "stream",
     "text": [
      "3\n"
     ]
    }
   ],
   "source": [
    "#Another solution\n",
    "arr = [1,2,4,5]\n",
    "N = 5\n",
    "xor1 = 0\n",
    "xor2 = 0\n",
    "for i in range(1,N+1):\n",
    "    xor1 = xor1^i                                \n",
    "for i in range(N-1):\n",
    "    xor2 = xor2^arr[i]\n",
    "print(xor1^xor2)                                #t.c is O(2N)  "
   ]
  },
  {
   "cell_type": "code",
   "execution_count": 18,
   "id": "8295639e-44ce-4ad2-bb86-5c4bd04fd44e",
   "metadata": {},
   "outputs": [
    {
     "name": "stdout",
     "output_type": "stream",
     "text": [
      "2\n"
     ]
    }
   ],
   "source": [
    "#maximum consecutive ones\n",
    "nums = [1,0,1,1,0,1]\n",
    "maxi = 0\n",
    "cnt = 0\n",
    "for i in range(len(nums)):\n",
    "    if nums[i] == 1:\n",
    "        cnt += 1\n",
    "        maxi = max(maxi,cnt)\n",
    "    else:\n",
    "        cnt = 0\n",
    "print(maxi)"
   ]
  },
  {
   "cell_type": "code",
   "execution_count": 2,
   "id": "0133f7af-addf-4665-b3be-d85245dddf66",
   "metadata": {},
   "outputs": [
    {
     "name": "stdout",
     "output_type": "stream",
     "text": [
      "8\n"
     ]
    }
   ],
   "source": [
    "#find the num that appears once , and the others twice\n",
    "arr = [1,1,2,2,3,3,4,4,8]\n",
    "n = len(arr)\n",
    "xor = 0\n",
    "for i in range(n):\n",
    "    xor = xor ^ arr[i]\n",
    "print(xor)\n",
    "    \n",
    "    "
   ]
  },
  {
   "cell_type": "code",
   "execution_count": null,
   "id": "67b3b45d-1cb8-49d8-b069-cbe956fb36dc",
   "metadata": {},
   "outputs": [],
   "source": []
  }
 ],
 "metadata": {
  "kernelspec": {
   "display_name": "Python 3 (ipykernel)",
   "language": "python",
   "name": "python3"
  },
  "language_info": {
   "codemirror_mode": {
    "name": "ipython",
    "version": 3
   },
   "file_extension": ".py",
   "mimetype": "text/x-python",
   "name": "python",
   "nbconvert_exporter": "python",
   "pygments_lexer": "ipython3",
   "version": "3.11.7"
  }
 },
 "nbformat": 4,
 "nbformat_minor": 5
}
