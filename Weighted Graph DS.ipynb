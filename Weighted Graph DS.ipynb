{
 "cells": [
  {
   "cell_type": "code",
   "execution_count": 16,
   "id": "2c7c78b5-2bf4-43c4-a63f-66d3fa3b8084",
   "metadata": {},
   "outputs": [
    {
     "name": "stdout",
     "output_type": "stream",
     "text": [
      "{'chennai': {'mumbai': 500, 'delhi': 1000, 'bangalore': 300}, 'mumbai': {'chennai': 500, 'delhi': 400}, 'delhi': {'chennai': 1000, 'mumbai': 400}, 'bangalore': {'chennai': 300}}\n",
      "{'chennai': {'delhi': 1000, 'bangalore': 300}, 'delhi': {'chennai': 1000}, 'bangalore': {'chennai': 300}}\n"
     ]
    }
   ],
   "source": [
    "class WeightedGraph:\n",
    "    def __init__(self):\n",
    "        self.graph = {}\n",
    "\n",
    "    def add_vertex(self,vertex):\n",
    "        if vertex not in self.graph:\n",
    "            self.graph[vertex] = {}\n",
    "\n",
    "    def add_edge(self,from_vertex,to_vertex,weight,isDirect = False):\n",
    "        self.add_vertex(from_vertex)\n",
    "        self.add_vertex(to_vertex)\n",
    "\n",
    "        self.graph[from_vertex][to_vertex] = weight\n",
    "\n",
    "        if isDirect == False:\n",
    "            self.graph[to_vertex][from_vertex] = weight\n",
    "\n",
    "    def remove_edge(self,from_vertex,to_vertex):\n",
    "        if from_vertex in self.graph and to_vertex in self.graph[from_vertex]:\n",
    "            del self.graph[from_vertex][to_vertex]\n",
    "        if to_vertex in self.graph and from_vertex in self.graph[to_vertex]:\n",
    "            del self.graph[to_vertex][from_vertex]\n",
    "\n",
    "    def remove_vertex(self,vertex):\n",
    "        if vertex in self.graph:\n",
    "            del self.graph[vertex]\n",
    "\n",
    "        for vertex_in in self.graph:\n",
    "            if vertex in self.graph[vertex_in]:\n",
    "                del self.graph[vertex_in][vertex]\n",
    "         \n",
    "\n",
    "\n",
    "weightedGraph1 = WeightedGraph()\n",
    "#weightedGraph1.add_vertex(\"Chennai\")\n",
    "#weightedGraph1.add_vertex(\"Bangalore\")\n",
    "#weightedGraph1.add_edge(\"chennai\",\"bangalore\",300)\n",
    "#print(weightedGraph1.graph)\n",
    "#weightedGraph1.remove_edge(\"chennai\",\"bangalore\")\n",
    "#print(weightedGraph1.graph)\n",
    "weightedGraph1.add_edge(\"chennai\",\"mumbai\",500)\n",
    "weightedGraph1.add_edge(\"chennai\",\"delhi\",1000)\n",
    "weightedGraph1.add_edge(\"chennai\",\"bangalore\",300)\n",
    "weightedGraph1.add_edge(\"mumbai\",\"delhi\",400)\n",
    "print(weightedGraph1.graph)\n",
    "weightedGraph1.remove_vertex(\"mumbai\")\n",
    "print(weightedGraph1.graph)"
   ]
  }
 ],
 "metadata": {
  "kernelspec": {
   "display_name": "Python 3 (ipykernel)",
   "language": "python",
   "name": "python3"
  },
  "language_info": {
   "codemirror_mode": {
    "name": "ipython",
    "version": 3
   },
   "file_extension": ".py",
   "mimetype": "text/x-python",
   "name": "python",
   "nbconvert_exporter": "python",
   "pygments_lexer": "ipython3",
   "version": "3.11.7"
  }
 },
 "nbformat": 4,
 "nbformat_minor": 5
}
