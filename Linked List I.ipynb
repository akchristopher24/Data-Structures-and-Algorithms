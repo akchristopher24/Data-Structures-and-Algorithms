{
 "cells": [
  {
   "cell_type": "code",
   "execution_count": 5,
   "id": "128542a5-7387-41db-a372-ed9f8b9562f5",
   "metadata": {},
   "outputs": [
    {
     "name": "stdout",
     "output_type": "stream",
     "text": [
      "Akash\n",
      "Ashik\n"
     ]
    }
   ],
   "source": [
    "class AdmissionForm:\n",
    "    Name = None\n",
    "    Age = None\n",
    "    Phone = None\n",
    "\n",
    "    def __init__(self,Name,Age,Phone):\n",
    "        self.Name = Name\n",
    "        self.Age = Age\n",
    "        self.Phone = Phone\n",
    "    \n",
    "xerox1 = AdmissionForm(\"Akash\",18,'987654321')\n",
    "\n",
    "#xerox1.Name = \"Akash\"\n",
    "#xerox1.Age = 18\n",
    "#xerox1.Phone = '987654321'\n",
    "\n",
    "xerox2 = AdmissionForm(\"Ashik\",21,'987654320')\n",
    "\n",
    "#xerox2.Name = \"Ashik\"\n",
    "#xerox2.Age = 21\n",
    "#xerox2.Phone = '987654320'\n",
    "\n",
    "print(xerox1.Name)\n",
    "print(xerox2.Name)"
   ]
  },
  {
   "cell_type": "markdown",
   "id": "e0600849-f94a-4704-969c-f5c538464ed1",
   "metadata": {},
   "source": [
    "### Creating Node"
   ]
  },
  {
   "cell_type": "code",
   "execution_count": 9,
   "id": "1c457256-2c9f-407c-9eb1-4b9aae8f2d54",
   "metadata": {},
   "outputs": [
    {
     "name": "stdout",
     "output_type": "stream",
     "text": [
      "25\n",
      "None\n",
      "hi\n",
      "None\n"
     ]
    }
   ],
   "source": [
    "class Node:\n",
    "    data = None\n",
    "    pointer = None\n",
    "    def __init__(self,data):\n",
    "        self.data = data\n",
    "        \n",
    "node1 = Node(25)\n",
    "print(node1.data)\n",
    "print(node1.pointer)\n",
    "\n",
    "node2 = Node(\"hi\")\n",
    "print(node2.data)\n",
    "print(node2.pointer)"
   ]
  },
  {
   "cell_type": "code",
   "execution_count": 14,
   "id": "97141ca2-7ff0-457e-aa5d-dcd9cf927035",
   "metadata": {},
   "outputs": [
    {
     "name": "stdout",
     "output_type": "stream",
     "text": [
      "<__main__.Node object at 0x000001F5B25DA310>\n",
      "1\n",
      "None\n"
     ]
    }
   ],
   "source": [
    "class Node:\n",
    "    def __init__(self,data):\n",
    "        self.data = data\n",
    "        self.pointer = None\n",
    "    #def __str__(self):\n",
    "        #return \"Node Class\" \n",
    "        \n",
    "node1 = Node(1)\n",
    "node2 = Node(2)\n",
    "node3 = Node(3) \n",
    "\n",
    "print(node1)\n",
    "print(node1.data)\n",
    "print(node1.pointer)\n",
    "\n",
    "        "
   ]
  },
  {
   "cell_type": "code",
   "execution_count": 23,
   "id": "dfc2a6f5-c500-4c28-8359-b1eda58e43f2",
   "metadata": {},
   "outputs": [
    {
     "name": "stdout",
     "output_type": "stream",
     "text": [
      "<__main__.Node object at 0x000001F5B25C5610>\n",
      "<__main__.Node object at 0x000001F5B25C5610>\n"
     ]
    }
   ],
   "source": [
    "class Node:\n",
    "    def __init__(self,data):\n",
    "        self.data = data\n",
    "        self.pointer = None\n",
    "    \n",
    "head = Node(1)\n",
    "node2 = Node(2)\n",
    "node3 = Node(3) \n",
    "\n",
    "head.pointer = node2\n",
    "node2.pointer = node3\n",
    "\n",
    "print(head.pointer)\n",
    "print(node2)\n",
    "#print(node3.pointer)\n",
    "#print(node2.pointer)\n",
    "\n",
    "\n",
    "        "
   ]
  },
  {
   "cell_type": "code",
   "execution_count": 29,
   "id": "96b0e0a8-6d0e-45cc-bc06-bf44f178363b",
   "metadata": {},
   "outputs": [
    {
     "name": "stdout",
     "output_type": "stream",
     "text": [
      "1\n",
      "2\n",
      "3\n",
      "1\n",
      "None\n"
     ]
    }
   ],
   "source": [
    "class Node:\n",
    "    def __init__(self,data):\n",
    "        self.data = data\n",
    "        self.pointer = None\n",
    "    \n",
    "head = Node(1)\n",
    "node2 = Node(2)\n",
    "node3 = Node(3) \n",
    "\n",
    "head.pointer = node2\n",
    "node2.pointer = node3\n",
    "\n",
    "cur = head\n",
    "while(cur is not None):\n",
    "    print(cur.data)\n",
    "    cur = cur.pointer\n",
    "\n",
    "\n",
    "print(head.data)\n",
    "print(cur)"
   ]
  },
  {
   "cell_type": "markdown",
   "id": "e869eae7-9d40-43c1-b6a7-2659518eaa3a",
   "metadata": {},
   "source": [
    "### ADD Node, REMOVE Node, DISPLAY Node"
   ]
  },
  {
   "cell_type": "code",
   "execution_count": 3,
   "id": "9d95293f-b3d5-4aef-be29-39ca55c4a33c",
   "metadata": {},
   "outputs": [
    {
     "name": "stdout",
     "output_type": "stream",
     "text": [
      "1 2 3 4 \n",
      "1 2 4 \n",
      "7 is not present in the linked list\n"
     ]
    }
   ],
   "source": [
    "class Node:\n",
    "    def __init__(self,data):\n",
    "        self.data = data\n",
    "        self.pointer = None\n",
    "\n",
    "class LinkedList:\n",
    "    def __init__(self):\n",
    "        self.head = None\n",
    "        \n",
    "    def add(self,data):\n",
    "        newNode = Node(data)\n",
    "        if self.head is None:\n",
    "            self.head = newNode\n",
    "        else:\n",
    "            cur = self.head\n",
    "            while (cur.pointer is not None):\n",
    "                cur = cur.pointer\n",
    "            cur.pointer = newNode\n",
    "            \n",
    "    def print(self):\n",
    "        cur = self.head\n",
    "        while(cur is not None):\n",
    "            print(cur.data, end = \" \")\n",
    "            cur = cur.pointer\n",
    "        print()\n",
    "        \n",
    "    def remove(self,data):\n",
    "        cur = self.head\n",
    "        if self.head is not None:\n",
    "            if self.head.data == data:\n",
    "                self.head = self.head.pointer\n",
    "            else:\n",
    "                cur = self.head\n",
    "                while (cur.pointer is not None and cur.pointer.data != data):\n",
    "                    cur = cur.pointer\n",
    "                if cur.pointer is not None:\n",
    "                    cur.pointer = cur.pointer.pointer\n",
    "                else:\n",
    "                    print(data,\"is not present in the linked list\")\n",
    "        else:\n",
    "            print(\"linked list is empty\")\n",
    "            \n",
    "                \n",
    "                \n",
    "            \n",
    "        \n",
    "\n",
    "\n",
    "\n",
    "linkedList = LinkedList()\n",
    "linkedList.add(1)\n",
    "linkedList.add(2)\n",
    "linkedList.add(3) \n",
    "linkedList.add(4) \n",
    "linkedList.print()  \n",
    "linkedList.remove(3)\n",
    "linkedList.print()\n",
    "linkedList.remove(7)\n",
    "    "
   ]
  },
  {
   "cell_type": "code",
   "execution_count": null,
   "id": "260a45a7-66a4-44f7-b000-4262970a6f78",
   "metadata": {},
   "outputs": [],
   "source": []
  },
  {
   "cell_type": "code",
   "execution_count": null,
   "id": "bb18474c-dd05-4b5d-b335-666cef548500",
   "metadata": {},
   "outputs": [],
   "source": []
  },
  {
   "cell_type": "code",
   "execution_count": null,
   "id": "3b3356fe-5883-4a22-a2ae-6858b54590ba",
   "metadata": {},
   "outputs": [],
   "source": []
  },
  {
   "cell_type": "code",
   "execution_count": null,
   "id": "64eba1ae-ec82-4c3a-8792-c0adbebe452f",
   "metadata": {},
   "outputs": [],
   "source": []
  },
  {
   "cell_type": "code",
   "execution_count": null,
   "id": "d1f0d66d-cacf-4b71-ba07-937a220a9984",
   "metadata": {},
   "outputs": [],
   "source": []
  },
  {
   "cell_type": "code",
   "execution_count": null,
   "id": "5d68fe67-b170-4f32-9e86-d9ff3e5a800e",
   "metadata": {},
   "outputs": [],
   "source": []
  },
  {
   "cell_type": "code",
   "execution_count": null,
   "id": "2e5078c6-0062-4c41-9db0-baa73e8ede3a",
   "metadata": {},
   "outputs": [],
   "source": []
  },
  {
   "cell_type": "code",
   "execution_count": null,
   "id": "d82acbdb-4299-4e21-b6de-5707085e6dc2",
   "metadata": {},
   "outputs": [],
   "source": []
  },
  {
   "cell_type": "code",
   "execution_count": null,
   "id": "d2ca072d-8480-4813-bd48-7d495fde5501",
   "metadata": {},
   "outputs": [],
   "source": []
  }
 ],
 "metadata": {
  "kernelspec": {
   "display_name": "Python 3 (ipykernel)",
   "language": "python",
   "name": "python3"
  },
  "language_info": {
   "codemirror_mode": {
    "name": "ipython",
    "version": 3
   },
   "file_extension": ".py",
   "mimetype": "text/x-python",
   "name": "python",
   "nbconvert_exporter": "python",
   "pygments_lexer": "ipython3",
   "version": "3.11.7"
  }
 },
 "nbformat": 4,
 "nbformat_minor": 5
}
