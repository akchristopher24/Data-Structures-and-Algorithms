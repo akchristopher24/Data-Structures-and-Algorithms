{
 "cells": [
  {
   "cell_type": "code",
   "execution_count": 10,
   "id": "a9920407-c49c-416c-b2fa-070a0d500c13",
   "metadata": {},
   "outputs": [
    {
     "name": "stdout",
     "output_type": "stream",
     "text": [
      "0 0 0 1 \n",
      "1 0 0 0 \n",
      "0 0 1 0 \n",
      "0 1 0 0 \n"
     ]
    }
   ],
   "source": [
    "def Is_Safe(board,row,col,N):\n",
    "    #checking straight line\n",
    "    i = col\n",
    "    while i >= 0:\n",
    "        if board[row][i] == 1:\n",
    "            return False\n",
    "        i -= 1\n",
    "    i = col\n",
    "    j = row\n",
    "    #checking upper diagonal\n",
    "    while i >= 0 and j >= 0:\n",
    "        if board[j][i] == 1:\n",
    "            return False\n",
    "        i -= 1\n",
    "        j -= 1\n",
    "        \n",
    "    #checking lower diagonal\n",
    "    #i = col\n",
    "    j = row\n",
    "    while i >= 0 and j < N:\n",
    "        if board[j][i]== 1:\n",
    "            return False\n",
    "        i -= 1\n",
    "        j += 1\n",
    "    return True\n",
    "    \n",
    "def Solve_N_Queen(board,col,N):\n",
    "    if col >= N:\n",
    "        return True\n",
    "    for row in range(N):\n",
    "        if Is_Safe(board,row,col,N):\n",
    "            board[row][col] = 1\n",
    "            if Solve_N_Queen(board,col+1,N):\n",
    "                return True\n",
    "            board[row][col] = 0\n",
    "            \n",
    "    return False\n",
    "N = 4\n",
    "board = [[0 for i in range(N)]for j in range(N)]\n",
    "#print(board)\n",
    "solution = Solve_N_Queen(board,0,N)\n",
    "if solution:\n",
    "    for i in range(N):\n",
    "        for j in range(N):\n",
    "            print(board[i][j],end = \" \")\n",
    "        print()\n",
    "else:\n",
    "    print(\"solution not found\")"
   ]
  }
 ],
 "metadata": {
  "kernelspec": {
   "display_name": "Python 3 (ipykernel)",
   "language": "python",
   "name": "python3"
  },
  "language_info": {
   "codemirror_mode": {
    "name": "ipython",
    "version": 3
   },
   "file_extension": ".py",
   "mimetype": "text/x-python",
   "name": "python",
   "nbconvert_exporter": "python",
   "pygments_lexer": "ipython3",
   "version": "3.11.7"
  }
 },
 "nbformat": 4,
 "nbformat_minor": 5
}
