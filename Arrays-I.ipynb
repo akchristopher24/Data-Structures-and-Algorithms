{
 "cells": [
  {
   "cell_type": "markdown",
   "id": "88e4a343-6b7b-4cf7-a895-d029b304af12",
   "metadata": {},
   "source": [
    "### Find the Largest Elements in the array"
   ]
  },
  {
   "cell_type": "code",
   "execution_count": 25,
   "id": "c819cce9-3233-444a-b798-6a2792a4b1ae",
   "metadata": {},
   "outputs": [
    {
     "data": {
      "text/plain": [
       "5"
      ]
     },
     "execution_count": 25,
     "metadata": {},
     "output_type": "execute_result"
    }
   ],
   "source": [
    "arr = [3,2,1,5,2]             #Brute force approach\n",
    "arr.sort()                    #T.C --> N log N\n",
    "arr[-1]"
   ]
  },
  {
   "cell_type": "code",
   "execution_count": null,
   "id": "b777165c-9f9f-4a50-b5f0-e005d1a7c891",
   "metadata": {},
   "outputs": [],
   "source": [
    "                             #no better approach"
   ]
  },
  {
   "cell_type": "code",
   "execution_count": 26,
   "id": "a1b9db01-275f-4cfa-b244-eecc9588d923",
   "metadata": {},
   "outputs": [
    {
     "name": "stdout",
     "output_type": "stream",
     "text": [
      "5\n"
     ]
    }
   ],
   "source": [
    "arr = [3,2,1,5,2]            # Optimal Approach\n",
    "largest = arr[0]\n",
    "for i in range(len(arr)):    #T.C --> O(n) \n",
    "    if arr[i] > largest:\n",
    "        largest = arr[i]\n",
    "print(largest)"
   ]
  },
  {
   "cell_type": "code",
   "execution_count": 28,
   "id": "5f55b4f1-1b5f-46a6-a310-ba73091c4ee2",
   "metadata": {},
   "outputs": [
    {
     "name": "stdout",
     "output_type": "stream",
     "text": [
      "Largest element: 5\n"
     ]
    }
   ],
   "source": [
    "def largest_element(arr):\n",
    "    largest = arr[0]\n",
    "    for i in range(len(arr)):\n",
    "        if arr[i] > largest:\n",
    "            largest = arr[i]\n",
    "    return largest\n",
    "\n",
    "# Example usage:\n",
    "arr = [3,2,1,5,2]\n",
    "print(\"Largest element:\", largest_element(arr))\n"
   ]
  },
  {
   "cell_type": "code",
   "execution_count": 29,
   "id": "b72594e6-3826-4ad4-8d20-ea6b7e750b2e",
   "metadata": {},
   "outputs": [
    {
     "name": "stdout",
     "output_type": "stream",
     "text": [
      "Largest element: 99\n"
     ]
    }
   ],
   "source": [
    "def largest_element(arr):\n",
    "    largest = arr[0]\n",
    "    for i in range(len(arr)):\n",
    "        if arr[i] > largest:\n",
    "            largest = arr[i]\n",
    "    return largest\n",
    "\n",
    "# Example usage:\n",
    "arr = [10, 23, 5, 99, 56]\n",
    "print(\"Largest element:\", largest_element(arr))\n"
   ]
  },
  {
   "cell_type": "code",
   "execution_count": 1,
   "id": "2b135898-50f4-4834-9a89-accb2d107d63",
   "metadata": {},
   "outputs": [
    {
     "name": "stdin",
     "output_type": "stream",
     "text": [
      "Enter number of test cases:  2\n",
      "Enter size of array:  5\n",
      "Enter array elements separated by space:  2 3 5 7 9\n"
     ]
    },
    {
     "name": "stdout",
     "output_type": "stream",
     "text": [
      "Largest element in the array is:  9\n"
     ]
    },
    {
     "name": "stdin",
     "output_type": "stream",
     "text": [
      "Enter size of array:  4\n",
      "Enter array elements separated by space:  88 99 100 74\n"
     ]
    },
    {
     "name": "stdout",
     "output_type": "stream",
     "text": [
      "Largest element in the array is:  100\n"
     ]
    }
   ],
   "source": [
    "def find_largest_element(array):\n",
    "  return max(array)\n",
    "\n",
    "# Multiple Test Cases\n",
    "test_cases = int(input(\"Enter number of test cases: \"))\n",
    "\n",
    "for _ in range(test_cases):\n",
    "    array_size = int(input(\"Enter size of array: \"))\n",
    "    array = list(map(int, input(\"Enter array elements separated by space: \").split()))\n",
    "\n",
    "    largest_element = find_largest_element(array)\n",
    "    print(\"Largest element in the array is: \", largest_element)"
   ]
  },
  {
   "cell_type": "markdown",
   "id": "7cc689c9-e59d-4ef5-a6e8-f0c592bbf335",
   "metadata": {},
   "source": [
    "### Find Second Largest Element in the array"
   ]
  },
  {
   "cell_type": "code",
   "execution_count": 3,
   "id": "e23420fe-1cd7-4111-baac-953b4df4d50c",
   "metadata": {},
   "outputs": [
    {
     "name": "stdout",
     "output_type": "stream",
     "text": [
      "5\n"
     ]
    }
   ],
   "source": [
    "arr = [1,2,4,7,7,5]     #bruteforce approach\n",
    "arr.sort()              #sorting taking nlogn                   \n",
    "largest = arr[-1]\n",
    "n = len(arr)\n",
    "for i in range(n-2,-1,-1):\n",
    "    if arr[i] != largest:\n",
    "        slast = arr[i] \n",
    "        break\n",
    "print(slast)"
   ]
  },
  {
   "cell_type": "code",
   "execution_count": 17,
   "id": "9e3ea7a3-2510-41b7-ab5f-412c540062f5",
   "metadata": {},
   "outputs": [
    {
     "name": "stdout",
     "output_type": "stream",
     "text": [
      "5\n"
     ]
    }
   ],
   "source": [
    "#better approach\n",
    "arr = [1,2,4,7,7,5]        \n",
    "slast = -1\n",
    "for i in range(len(arr)):     \n",
    "    if arr[i] > largest:\n",
    "        largest = arr[i] \n",
    "for i in range(len(arr)):\n",
    "    if arr[i] > slast and arr[i] != largest:\n",
    "        slast = arr[i]\n",
    "print(slast) "
   ]
  },
  {
   "cell_type": "code",
   "execution_count": 26,
   "id": "5b19fa34-3787-44cd-b6a0-d4ea636380ca",
   "metadata": {},
   "outputs": [
    {
     "name": "stdout",
     "output_type": "stream",
     "text": [
      "5\n",
      "7\n"
     ]
    }
   ],
   "source": [
    "arr = [1,2,4,7,7,5]\n",
    "largest = arr[0]\n",
    "slast = -1\n",
    "for i in range(len(arr)):\n",
    "    if arr[i] > largest:\n",
    "        slast = largest\n",
    "        largest = arr[i]\n",
    "    if arr[i] < largest and arr[i] > slast:\n",
    "        slast = arr[i]\n",
    "    if arr[i] == largest:\n",
    "        pass\n",
    "print(slast)\n",
    "print(largest)"
   ]
  },
  {
   "cell_type": "markdown",
   "id": "6bc18e02-7d3c-47b9-8f9e-4428be65e13f",
   "metadata": {},
   "source": [
    "### code studio problem: find second largest and second smallest element"
   ]
  },
  {
   "cell_type": "code",
   "execution_count": 34,
   "id": "5a7c7a11-99a2-41b5-b768-882e9312bce7",
   "metadata": {},
   "outputs": [
    {
     "name": "stdout",
     "output_type": "stream",
     "text": [
      "5 2\n"
     ]
    }
   ],
   "source": [
    "arr = [1,2,4,7,7,5]\n",
    "n = len(arr)\n",
    "def secondLargest(arr,n):\n",
    "    largest = arr[0]\n",
    "    smallest = -1\n",
    "    for i in range(n):\n",
    "        if arr[i] > largest:\n",
    "            slargest = largest\n",
    "            largest = arr[i]\n",
    "        elif arr[i] < largest and arr[i] > slargest:\n",
    "            slargest = arr[i]   \n",
    "    return slargest\n",
    "def secondSmallest(arr,n):\n",
    "    smallest = arr[0]\n",
    "    ssmallest = float('inf') \n",
    "    for i in range(n):\n",
    "        if arr[i] < smallest:\n",
    "            ssmallest = smallest\n",
    "            smallest = arr[i]\n",
    "        elif arr[i] != smallest and arr[i] < ssmallest:\n",
    "            ssmallest = arr[i]\n",
    "    return ssmallest       \n",
    "def getSecondOrderElements(n,a):\n",
    "    slargest = secondLargest(a,n)\n",
    "    ssmallest = secondSmallest(a,n)\n",
    "    return slargest,ssmallest\n",
    "\n",
    "slargest, ssmallest = getSecondOrderElements(n,arr)\n",
    "print(slargest,ssmallest)"
   ]
  },
  {
   "cell_type": "code",
   "execution_count": null,
   "id": "da4f33f9-0752-401f-9f82-a48c4dce2c48",
   "metadata": {},
   "outputs": [],
   "source": []
  },
  {
   "cell_type": "code",
   "execution_count": 30,
   "id": "f416b1e8-e25a-4fd4-b8a4-b67ffd5dc4bf",
   "metadata": {},
   "outputs": [
    {
     "name": "stdout",
     "output_type": "stream",
     "text": [
      "Input array: [12, 45, 7, 23, 56, 89, 34]\n",
      "Second Largest: 56\n",
      "Second Smallest: 12\n"
     ]
    }
   ],
   "source": [
    "def secondLargest(a):\n",
    "    largest = a[0]\n",
    "    slargest = float('-inf')\n",
    "    for i in range(len(a)):\n",
    "        if a[i] > largest:\n",
    "            slargest = largest\n",
    "            largest = a[i]\n",
    "        elif a[i] > slargest and a[i] != largest:\n",
    "            slargest = a[i]\n",
    "    return slargest\n",
    "\n",
    "\n",
    "def secondSmallest(a):\n",
    "    smallest = a[0]\n",
    "    ssmallest = float('inf')\n",
    "    for i in range(len(a)):\n",
    "        if a[i] < smallest:\n",
    "            ssmallest = smallest\n",
    "            smallest = a[i]\n",
    "        elif a[i] < ssmallest and a[i] != smallest:\n",
    "            ssmallest = a[i]\n",
    "    return ssmallest\n",
    "\n",
    "\n",
    "def getSecondOrderElements(n, a):\n",
    "    slargest = secondLargest(a)\n",
    "    ssmallest = secondSmallest(a)\n",
    "    return slargest, ssmallest\n",
    "\n",
    "\n",
    "# Example usage\n",
    "numbers = [12, 45, 7, 23, 56, 89, 34]\n",
    "n = len(numbers)\n",
    "print(\"Input array:\", numbers)\n",
    "\n",
    "slargest, ssmallest = getSecondOrderElements(n, numbers)\n",
    "print(\"Second Largest:\", slargest)\n",
    "print(\"Second Smallest:\", ssmallest)"
   ]
  },
  {
   "cell_type": "markdown",
   "id": "79071c3d-29a7-4753-be96-f2abce04dd46",
   "metadata": {},
   "source": [
    "### Check if the Array is sorted or not"
   ]
  },
  {
   "cell_type": "code",
   "execution_count": 4,
   "id": "b7a067a1-d4c5-423e-9a4f-53efffd38e52",
   "metadata": {},
   "outputs": [
    {
     "data": {
      "text/plain": [
       "False"
      ]
     },
     "execution_count": 4,
     "metadata": {},
     "output_type": "execute_result"
    }
   ],
   "source": [
    "def isSorted(n,a):\n",
    "    for i in range(1,n):\n",
    "        if a[i] > a[i-1]:\n",
    "            pass\n",
    "        else:\n",
    "            return False\n",
    "    return True\n",
    "isSorted(5,[1,3,2,4,5]) "
   ]
  },
  {
   "cell_type": "code",
   "execution_count": 6,
   "id": "1698c566-f2c1-4d5f-b339-a9866a453c57",
   "metadata": {},
   "outputs": [
    {
     "data": {
      "text/plain": [
       "False"
      ]
     },
     "execution_count": 6,
     "metadata": {},
     "output_type": "execute_result"
    }
   ],
   "source": [
    "# straight forward method, no brute,better,optimal\n",
    "n = 5\n",
    "a = [1,2,6,4,5]\n",
    "def isSorted(n,a):\n",
    "    for i in range(1,n):\n",
    "        if a[i] > a[i-1]:\n",
    "            pass\n",
    "        else:\n",
    "            return False\n",
    "    return True\n",
    "isSorted(n,a)                                     # t.c is O(n)"
   ]
  },
  {
   "cell_type": "markdown",
   "id": "05a67672-ad99-4191-9fa7-f980fb7393bb",
   "metadata": {},
   "source": [
    "### Remove Duplicates in place from sorted array "
   ]
  },
  {
   "cell_type": "code",
   "execution_count": 9,
   "id": "39d34a2e-b2c6-4e92-841c-d7fc21883642",
   "metadata": {},
   "outputs": [
    {
     "data": {
      "text/plain": [
       "{1, 2, 3}"
      ]
     },
     "execution_count": 9,
     "metadata": {},
     "output_type": "execute_result"
    }
   ],
   "source": [
    "arr = [1,1,2,2,2,3,3]        #NlogN\n",
    "st = set(arr)\n",
    "st"
   ]
  },
  {
   "cell_type": "code",
   "execution_count": 12,
   "id": "bc48f05b-d72f-4a39-846b-e0e27ef3d7cc",
   "metadata": {},
   "outputs": [
    {
     "data": {
      "text/plain": [
       "3"
      ]
     },
     "execution_count": 12,
     "metadata": {},
     "output_type": "execute_result"
    }
   ],
   "source": [
    "#Optimal Approach\n",
    "arr = [1,1,2,2,2,3,3]  \n",
    "n=len(arr)\n",
    "def removeDuplicates(arr,n):\n",
    "    i=0\n",
    "    for j in range(1,n):\n",
    "        if arr[i] != arr[j]:\n",
    "            arr[i+1] = arr[j] \n",
    "            i=i+1\n",
    "    return i+1\n",
    "removeDuplicates(arr,n)       #return the count of unique elements         t.c is O(n), s.c is O(1) "
   ]
  },
  {
   "cell_type": "markdown",
   "id": "cca317b8-27fb-486a-a042-aca11bf6f3e4",
   "metadata": {},
   "source": [
    "### left rotate an array by 1 place"
   ]
  },
  {
   "cell_type": "code",
   "execution_count": 3,
   "id": "e36aa04c-0f09-46e8-9ddc-61ebb505bc47",
   "metadata": {},
   "outputs": [
    {
     "data": {
      "text/plain": [
       "[2, 3, 4, 5, 1]"
      ]
     },
     "execution_count": 3,
     "metadata": {},
     "output_type": "execute_result"
    }
   ],
   "source": [
    "arr = [1,2,3,4,5]\n",
    "n = len(arr)\n",
    "temp = arr[0]\n",
    "def rotateArray(arr,n):\n",
    "    for i in range(1,n):\n",
    "        arr[i-1] = arr[i]\n",
    "    arr[n-1] = temp\n",
    "    return arr\n",
    "rotateArray(arr,n)   "
   ]
  },
  {
   "cell_type": "markdown",
   "id": "1a6c1fdb-a805-432f-a19a-ff2f758bfd4a",
   "metadata": {},
   "source": [
    "### Left Rotate an Array by D places"
   ]
  },
  {
   "cell_type": "code",
   "execution_count": 39,
   "id": "d822c4d3-b114-44a6-a8aa-4880d3f89a26",
   "metadata": {},
   "outputs": [
    {
     "name": "stdout",
     "output_type": "stream",
     "text": [
      "[3, 4, 5, 6, 7, 1, 2]\n"
     ]
    }
   ],
   "source": [
    "#brute \n",
    "arr = [1,2,3,4,5,6,7]\n",
    "d = 2\n",
    "d = d % n\n",
    "n = len(arr)\n",
    "temp = []\n",
    "for i in range(n):\n",
    "    if i < d:\n",
    "        temp.append(arr[i])\n",
    "for i in range(d,n):\n",
    "    arr[i-d]=arr[i]\n",
    "for i in range(n-d,n):\n",
    "    arr[i] = temp[i-(n-d)] \n",
    "print(arr)"
   ]
  },
  {
   "cell_type": "code",
   "execution_count": 38,
   "id": "adc1951c-fb0e-4e22-8429-a418d2748def",
   "metadata": {},
   "outputs": [
    {
     "name": "stdin",
     "output_type": "stream",
     "text": [
      "Enter d value :  2\n"
     ]
    },
    {
     "name": "stdout",
     "output_type": "stream",
     "text": [
      "[3, 4, 5, 6, 7, 1, 2]\n"
     ]
    }
   ],
   "source": [
    "#optimal solution\n",
    "arr = [1,2,3,4,5,6,7]\n",
    "d = int(input(\"Enter d value : \"))\n",
    "d = d % n\n",
    "n = len(arr)\n",
    "def leftRotate(arr,n,d):\n",
    "    arr[:d] = reversed(arr[:d])\n",
    "    arr[d:] = reversed(arr[d:])\n",
    "    arr[::-1] = reversed(arr[::-1] )\n",
    "    return arr\n",
    "print(leftRotate(arr,n,d))      \n"
   ]
  },
  {
   "cell_type": "markdown",
   "id": "93429aaa-8a14-4bc8-b0cb-570e0e990b9c",
   "metadata": {},
   "source": [
    "### Move Zeros to end"
   ]
  },
  {
   "cell_type": "code",
   "execution_count": 23,
   "id": "5242a137-62bc-4005-8940-d0c45397d8fe",
   "metadata": {},
   "outputs": [
    {
     "name": "stdout",
     "output_type": "stream",
     "text": [
      "[1, 2, 3, 1, 2, 3, 0, 0, 0]\n"
     ]
    }
   ],
   "source": [
    "arr = [1,0,2,3,0,0,1,2,3]\n",
    "n = len(arr)\n",
    "temp = []\n",
    "def moveZero(arr,n):\n",
    "    for i in range(n):\n",
    "        if arr[i]!= 0:\n",
    "            temp.append(arr[i])\n",
    "            \n",
    "    return temp\n",
    "moveZero(arr,n)\n",
    "nz = len(temp)\n",
    "for i in range(nz):\n",
    "    arr[i] = temp[i]\n",
    "for i in range(nz,n):\n",
    "    arr[i]=0\n",
    "print(arr)\n",
    "\n",
    "\n"
   ]
  },
  {
   "cell_type": "code",
   "execution_count": 24,
   "id": "0bb44de3-50a1-466a-b4ee-bc0ed662a28c",
   "metadata": {},
   "outputs": [
    {
     "name": "stdout",
     "output_type": "stream",
     "text": [
      "[1, 2, 3, 2, 4, 5, 1, 0, 0, 0]\n"
     ]
    }
   ],
   "source": [
    "#optimal approach\n",
    "arr = [1,0,2,3,2,0,0,4,5,1]\n",
    "j = -1\n",
    "n = len(arr)\n",
    "for i in range(n):\n",
    "    if arr[i] == 0:\n",
    "        j = i\n",
    "        break\n",
    "for i in range(j+1,n):\n",
    "    if arr[i] != 0:\n",
    "        arr[i],arr[j]=arr[j],arr[i]\n",
    "        j = j+1\n",
    "        \n",
    "print(arr)    "
   ]
  },
  {
   "cell_type": "markdown",
   "id": "5c3b5021-f120-4c71-b6b1-b99b50fa242f",
   "metadata": {},
   "source": [
    "### linear search problem"
   ]
  },
  {
   "cell_type": "code",
   "execution_count": 37,
   "id": "0f3f3a5a-5af0-4683-9db6-0aab40804ae5",
   "metadata": {},
   "outputs": [
    {
     "name": "stdout",
     "output_type": "stream",
     "text": [
      "-1\n"
     ]
    }
   ],
   "source": [
    "arr = [6,7,8,4,1]\n",
    "num = 12\n",
    "\n",
    "def linearSearch(arr,num):\n",
    "    for i in range(len(arr)):\n",
    "        if arr[i]==num:\n",
    "            return i\n",
    "    return -1\n",
    "print(linearSearch(arr,num))    "
   ]
  },
  {
   "cell_type": "markdown",
   "id": "062fec0e-0973-450e-a4a5-33cfc66e156b",
   "metadata": {},
   "source": [
    "### find missing number"
   ]
  },
  {
   "cell_type": "code",
   "execution_count": 5,
   "id": "e0133f6a-9915-45eb-97b9-30bf0057f028",
   "metadata": {},
   "outputs": [
    {
     "name": "stdout",
     "output_type": "stream",
     "text": [
      "3\n"
     ]
    }
   ],
   "source": [
    "#my bruteforce\n",
    "arr = [1,2,4,5]\n",
    "N = 5\n",
    "for i in range(1,N+1):\n",
    "    if i not in arr: \n",
    "        print(i)"
   ]
  },
  {
   "cell_type": "code",
   "execution_count": 18,
   "id": "1be557ef-7009-401a-8106-b6b7ca7ca138",
   "metadata": {},
   "outputs": [
    {
     "name": "stdout",
     "output_type": "stream",
     "text": [
      "3\n"
     ]
    }
   ],
   "source": [
    "#better approach\n",
    "arr = [1,2,4,5]\n",
    "N = 5\n",
    "hash_arr = (N+1)*[0]                   #S.C --> O(N)\n",
    "for i in arr:                          #O(N)\n",
    "    hash_arr[i]= hash_arr[i]+1 \n",
    "for i in range(1,N+1):                 #O(N)  \n",
    "    if hash_arr[i]==0:\n",
    "        print(i)                       #T.C is O(N) + O(N) = O(2N) "
   ]
  },
  {
   "cell_type": "code",
   "execution_count": 35,
   "id": "90dbac05-00e2-43e8-b911-e1615196d0e8",
   "metadata": {},
   "outputs": [
    {
     "name": "stdout",
     "output_type": "stream",
     "text": [
      "missing number is 2\n"
     ]
    }
   ],
   "source": [
    "#optimal\n",
    "arr = [1,3,4,5]\n",
    "N = 5\n",
    "def sumNaturalNum(N):\n",
    "    sum = N*(N+1)//2\n",
    "    return sum\n",
    "\n",
    "def sumArrNum(arr):\n",
    "    s2 = 0\n",
    "    for i in range(len(arr)):\n",
    "        s2 = s2 + arr[i]\n",
    "    return s2   \n",
    "    \n",
    "sumN = sumNaturalNum(N)\n",
    "sumArr = sumArrNum(arr)\n",
    "\n",
    "#print(sumN)\n",
    "#print(sumArr)\n",
    "\n",
    "print(\"missing number is\" ,sumN- sumArr)"
   ]
  },
  {
   "cell_type": "markdown",
   "id": "f2683fd9-6738-4253-bdc2-986dce7ac141",
   "metadata": {},
   "source": [
    "### Find Maximum Consecutive Ones"
   ]
  },
  {
   "cell_type": "code",
   "execution_count": 39,
   "id": "03378487-094e-4ae1-b2c1-6a3fa12f4a7f",
   "metadata": {},
   "outputs": [
    {
     "data": {
      "text/plain": [
       "4"
      ]
     },
     "execution_count": 39,
     "metadata": {},
     "output_type": "execute_result"
    }
   ],
   "source": [
    "nums = [1,1,0,1,1,1,1,0,1,1] \n",
    "def MaxConsecutiveOnes(nums):\n",
    "    cnt = 0\n",
    "    maxi = 0\n",
    "    for i in range(len(nums)):\n",
    "        if nums[i] == 1:\n",
    "            cnt = cnt+1\n",
    "            maxi = max(cnt,maxi)\n",
    "        else:\n",
    "            cnt = 0\n",
    "    return maxi\n",
    "MaxConsecutiveOnes(nums)"
   ]
  },
  {
   "cell_type": "markdown",
   "id": "83aa2d94-8905-4ed1-9309-15b84a8e3456",
   "metadata": {},
   "source": [
    "### leetcode 704: Binary Search"
   ]
  },
  {
   "cell_type": "markdown",
   "id": "f3bfa549-56b7-4d16-9277-e24fcc76923c",
   "metadata": {},
   "source": [
    "Example 1:\r\n",
    "\r\n",
    "Input: nums = [-1,0,3,5,9,12], target = 9\r\n",
    "Output: 4\r\n",
    "Explanation: 9 exists in nums and its index is 4\r\n",
    "Example 2:\r\n",
    "\r\n",
    "Input: nums = [-1,0,3,5,9,12], target = 2\r\n",
    "Output: -1\r\n",
    "Explanation: 2 does not exist in nums so return -1"
   ]
  },
  {
   "cell_type": "code",
   "execution_count": 2,
   "id": "861225cb-ea8b-447c-b093-f222a011b366",
   "metadata": {},
   "outputs": [
    {
     "name": "stdout",
     "output_type": "stream",
     "text": [
      "4\n"
     ]
    }
   ],
   "source": [
    "def search(nums, target):\n",
    "    n = len(nums)\n",
    "    low = 0\n",
    "    high = n - 1\n",
    "    while low <= high:\n",
    "        mid = (low + high) // 2\n",
    "        if nums[mid] == target:\n",
    "            return mid  # Return the index instead of the target\n",
    "        elif target > nums[mid]:\n",
    "            low = mid + 1\n",
    "        else:\n",
    "            high = mid - 1\n",
    "    return -1  # Target not found\n",
    "\n",
    "\n",
    "nums = [-1, 0, 3, 5, 9, 12]\n",
    "target = 9\n",
    "print(search(nums, target))  # Output: 4"
   ]
  },
  {
   "cell_type": "code",
   "execution_count": 4,
   "id": "e14cb9ad-c5b9-472d-9be8-38b93a03d44b",
   "metadata": {},
   "outputs": [
    {
     "name": "stdout",
     "output_type": "stream",
     "text": [
      "3\n"
     ]
    }
   ],
   "source": [
    "nums = [1,2,3,4,5]\n",
    "target = 4\n",
    "n = len(nums)\n",
    "low = 0\n",
    "high = n - 1\n",
    "def Search(nums,low,high,target): \n",
    "    if low > high:\n",
    "        return -1\n",
    "    mid = low+high//2\n",
    "    if target == nums[mid]:\n",
    "        return mid\n",
    "    elif target > nums[mid]:\n",
    "        return Search(nums,mid+1,high,target) \n",
    "    else:\n",
    "        return Search(nums,low,mid-1,target) \n",
    "print(search(nums, target)) "
   ]
  },
  {
   "cell_type": "code",
   "execution_count": null,
   "id": "1a5cdf0c-355a-417f-87eb-014019b23879",
   "metadata": {},
   "outputs": [],
   "source": []
  }
 ],
 "metadata": {
  "kernelspec": {
   "display_name": "Python 3 (ipykernel)",
   "language": "python",
   "name": "python3"
  },
  "language_info": {
   "codemirror_mode": {
    "name": "ipython",
    "version": 3
   },
   "file_extension": ".py",
   "mimetype": "text/x-python",
   "name": "python",
   "nbconvert_exporter": "python",
   "pygments_lexer": "ipython3",
   "version": "3.11.7"
  }
 },
 "nbformat": 4,
 "nbformat_minor": 5
}
