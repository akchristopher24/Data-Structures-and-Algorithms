{
 "cells": [
  {
   "cell_type": "code",
   "execution_count": 2,
   "id": "40fe424a-5c2c-42a2-8ca9-4b47a1a69d68",
   "metadata": {},
   "outputs": [
    {
     "name": "stdout",
     "output_type": "stream",
     "text": [
      "fibo of 9 : 34\n"
     ]
    }
   ],
   "source": [
    "def fibo(position):\n",
    "    if position <= 2:\n",
    "        return 1\n",
    "    dp = [0]* position\n",
    "    dp[0] = 1\n",
    "    dp[1] = 1\n",
    "    for i in range(2,position):\n",
    "        dp[i] = dp[i-1] + dp[i-2]\n",
    "    print(f\"fibo of {position} : {dp[-1]}\")\n",
    "\n",
    "fibo(9)\n"
   ]
  },
  {
   "cell_type": "code",
   "execution_count": 13,
   "id": "211892fb-e581-4703-9f98-6cf70a8def89",
   "metadata": {},
   "outputs": [
    {
     "name": "stdout",
     "output_type": "stream",
     "text": [
      "5\n"
     ]
    }
   ],
   "source": [
    "def fibo(position,memory):\n",
    "    if position in memory:\n",
    "        return memory[position]\n",
    "    if position <= 2:\n",
    "        return 1\n",
    "    memory[position] = fibo(position - 1,memory) + fibo(position - 2,memory)\n",
    "    return memory[position]\n",
    "\n",
    "print(fibo(5,{}))"
   ]
  }
 ],
 "metadata": {
  "kernelspec": {
   "display_name": "Python 3 (ipykernel)",
   "language": "python",
   "name": "python3"
  },
  "language_info": {
   "codemirror_mode": {
    "name": "ipython",
    "version": 3
   },
   "file_extension": ".py",
   "mimetype": "text/x-python",
   "name": "python",
   "nbconvert_exporter": "python",
   "pygments_lexer": "ipython3",
   "version": "3.11.7"
  }
 },
 "nbformat": 4,
 "nbformat_minor": 5
}
